{
 "cells": [
  {
   "cell_type": "markdown",
   "source": [
    "# Thêm các thư viện cần thiết"
   ],
   "metadata": {}
  },
  {
   "cell_type": "code",
   "execution_count": 1,
   "source": [
    "import pandas as pd\r\n",
    "import numpy as np\r\n",
    "import nltk\r\n",
    "from sklearn.feature_extraction.text import CountVectorizer\r\n",
    "from sklearn.feature_extraction.text import TfidfVectorizer\r\n",
    "from sklearn.linear_model import SGDClassifier\r\n",
    "from sklearn.naive_bayes import MultinomialNB\r\n",
    "from sklearn.metrics import accuracy_score\r\n",
    "from sklearn.model_selection import train_test_split\r\n",
    "from sklearn import svm\r\n",
    "from sklearn import metrics\r\n",
    "import os"
   ],
   "outputs": [],
   "metadata": {}
  },
  {
   "cell_type": "markdown",
   "source": [
    "# Load data\r\n"
   ],
   "metadata": {}
  },
  {
   "cell_type": "code",
   "execution_count": 8,
   "source": [
    "data = pd.read_csv(\".\\data set\\data_set.csv\")\r\n",
    "data.head()"
   ],
   "outputs": [
    {
     "output_type": "execute_result",
     "data": {
      "text/html": [
       "<div>\n",
       "<style scoped>\n",
       "    .dataframe tbody tr th:only-of-type {\n",
       "        vertical-align: middle;\n",
       "    }\n",
       "\n",
       "    .dataframe tbody tr th {\n",
       "        vertical-align: top;\n",
       "    }\n",
       "\n",
       "    .dataframe thead th {\n",
       "        text-align: right;\n",
       "    }\n",
       "</style>\n",
       "<table border=\"1\" class=\"dataframe\">\n",
       "  <thead>\n",
       "    <tr style=\"text-align: right;\">\n",
       "      <th></th>\n",
       "      <th>is_spam</th>\n",
       "      <th>comment</th>\n",
       "    </tr>\n",
       "  </thead>\n",
       "  <tbody>\n",
       "    <tr>\n",
       "      <th>0</th>\n",
       "      <td>1</td>\n",
       "      <td>.</td>\n",
       "    </tr>\n",
       "    <tr>\n",
       "      <th>1</th>\n",
       "      <td>0</td>\n",
       "      <td>Tu Vi:\\n\\nTrong càn khôn:\\n\\nTôi Thể Cảnh\\n\\nK...</td>\n",
       "    </tr>\n",
       "    <tr>\n",
       "      <th>2</th>\n",
       "      <td>1</td>\n",
       "      <td>Ảnh taihen cổ trang update liên tục ae nào thí...</td>\n",
       "    </tr>\n",
       "    <tr>\n",
       "      <th>3</th>\n",
       "      <td>0</td>\n",
       "      <td>Chỉ có gánh team thôi không có gánh nặng nhé</td>\n",
       "    </tr>\n",
       "    <tr>\n",
       "      <th>4</th>\n",
       "      <td>1</td>\n",
       "      <td>NaN</td>\n",
       "    </tr>\n",
       "  </tbody>\n",
       "</table>\n",
       "</div>"
      ],
      "text/plain": [
       "   is_spam                                            comment\n",
       "0        1                                                  .\n",
       "1        0  Tu Vi:\\n\\nTrong càn khôn:\\n\\nTôi Thể Cảnh\\n\\nK...\n",
       "2        1  Ảnh taihen cổ trang update liên tục ae nào thí...\n",
       "3        0       Chỉ có gánh team thôi không có gánh nặng nhé\n",
       "4        1                                                NaN"
      ]
     },
     "metadata": {},
     "execution_count": 8
    }
   ],
   "metadata": {}
  },
  {
   "cell_type": "markdown",
   "source": [
    "# Tiền xử lý dữ liệu"
   ],
   "metadata": {}
  },
  {
   "cell_type": "markdown",
   "source": [
    "- Xoá các dòng trống, chỉ chứa dấu chấm."
   ],
   "metadata": {}
  },
  {
   "cell_type": "code",
   "execution_count": 9,
   "source": [
    "data = data.replace('',np.nan)\r\n",
    "data = data.dropna()"
   ],
   "outputs": [],
   "metadata": {}
  },
  {
   "cell_type": "code",
   "execution_count": 10,
   "source": [
    "data = data.set_index('comment')\r\n",
    "data = data.drop('.')\r\n",
    "data = data.set_index('is_spam')"
   ],
   "outputs": [],
   "metadata": {}
  },
  {
   "cell_type": "code",
   "execution_count": 13,
   "source": [
    "data.head(20)"
   ],
   "outputs": [
    {
     "output_type": "execute_result",
     "data": {
      "text/html": [
       "<div>\n",
       "<style scoped>\n",
       "    .dataframe tbody tr th:only-of-type {\n",
       "        vertical-align: middle;\n",
       "    }\n",
       "\n",
       "    .dataframe tbody tr th {\n",
       "        vertical-align: top;\n",
       "    }\n",
       "\n",
       "    .dataframe thead th {\n",
       "        text-align: right;\n",
       "    }\n",
       "</style>\n",
       "<table border=\"1\" class=\"dataframe\">\n",
       "  <thead>\n",
       "    <tr style=\"text-align: right;\">\n",
       "      <th></th>\n",
       "      <th>is_spam</th>\n",
       "    </tr>\n",
       "    <tr>\n",
       "      <th>comment</th>\n",
       "      <th></th>\n",
       "    </tr>\n",
       "  </thead>\n",
       "  <tbody>\n",
       "    <tr>\n",
       "      <th>Tu Vi:\\n\\nTrong càn khôn:\\n\\nTôi Thể Cảnh\\n\\nKhai Nguyên Cảnh\\n\\nKhí Động Cảnh\\n\\nLy hợp Cảnh\\n\\nChân Nguyên Cảnh\\n\\nThần Du Cảnh\\n\\nSiêu Phàm Cảnh\\n\\nNhập Thánh Cảnh\\n\\nThánh Vương Cảnh\\n\\nPhản Hư Cảnh\\n\\nHư Vương Cảnh\\n\\nĐạo nguyên cảnh\\n\\nĐế tôn\\n\\nngụy đế và đại đế chỉ là danh xưng: khi đạt tới đế tôn tam tầng đỉnh phong ngưng tụ được tự thân đạo ấn nhưng không dc thiên địa thừa nhận sẽ dc xưng là ngụy đế, ngược lại nếu được thiên địa thừa nhận sẽ được danh là đại đế. Cơ bản cả 2 như nhau nhưng đại đế lời hơn do có đc sức mạnh thiên địa hơn Đế Tôn bình thường.\\n\\nNgoài Càn Khôn:\\n\\nngưng tụ âm dương ngũ hành (dc 5 trong 7 loại dc tính nửa bước khai thiên)\\n\\nKhai thiên cảnh \\n\\nnhất tới tam phẩm : Hạ phẩm khai thiên\\n\\ntứ phẩm tới lục phẩm : Trung Phẩm khai thiên\\n\\nthất phẩm tới : thượng phẩm khai thiên\\n\\nTạo Vật Cảnh\\n\\nđẳng cấp long tộc:\\n\\ndưới 100 trượng - ấu long\\n\\ntừ 1000 đến 6000 trượng - cự long\\n\\n&gt; 6000 đến 8999 trượng - cổ long\\n\\n&gt;= 9000 trượng - thánh long\\n\\nLong Hoàng - danh hiệu dành cho con rồng mạnh nhất trong long tộc</th>\n",
       "      <td>0</td>\n",
       "    </tr>\n",
       "    <tr>\n",
       "      <th>Ảnh taihen cổ trang update liên tục ae nào thích thì coi nha\\nhttps://lin&amp;k1s.com/8VIqKflo (bỏ &amp;) nhé</th>\n",
       "      <td>1</td>\n",
       "    </tr>\n",
       "    <tr>\n",
       "      <th>Chỉ có gánh team thôi không có gánh nặng nhé</th>\n",
       "      <td>0</td>\n",
       "    </tr>\n",
       "    <tr>\n",
       "      <th>Hư vương cảnh rồi đến cảnh giới gì vậy</th>\n",
       "      <td>0</td>\n",
       "    </tr>\n",
       "    <tr>\n",
       "      <th>Đến hoa lan cẩm sục cảnh nhá :v</th>\n",
       "      <td>0</td>\n",
       "    </tr>\n",
       "    <tr>\n",
       "      <th>Tu Vi:\\n\\nTrong càn khôn:\\n\\nTôi Thể Cảnh\\n\\nKhai Nguyên Cảnh\\n\\nKhí Động Cảnh\\n\\nLy hợp Cảnh\\n\\nChân Nguyên Cảnh\\n\\nThần Du Cảnh\\n\\nSiêu Phàm Cảnh\\n\\nNhập Thánh Cảnh\\n\\nThánh Vương Cảnh\\n\\nPhản Hư Cảnh\\n\\nHư Vương Cảnh\\n\\nĐạo nguyên cảnh\\n\\nĐế tôn\\n\\nngụy đế và đại đế chỉ là danh xưng: khi đạt tới đế tôn tam tầng đỉnh phong ngưng tụ được tự thân đạo ấn nhưng không dc thiên địa thừa nhận sẽ dc xưng là ngụy đế, ngược lại nếu được thiên địa thừa nhận sẽ được danh là đại đế. Cơ bản cả 2 như nhau nhưng đại đế lời hơn do có đc sức mạnh thiên địa hơn Đế Tôn bình thường.\\n\\nNgoài Càn Khôn:\\n\\nngưng tụ âm dương ngũ hành (dc 5 trong 7 loại dc tính nửa bước khai thiên)\\n\\nKhai thiên cảnh\\n\\nnhất tới tam phẩm : Hạ phẩm khai thiên\\n\\ntứ phẩm tới lục phẩm : Trung Phẩm khai thiên\\n\\nthất phẩm tới : thượng phẩm khai thiên\\n\\nTạo Vật Cảnh\\n\\nđẳng cấp long tộc:\\n\\ndưới 100 trượng - ấu long\\n\\ntừ 1000 đến 6000 trượng - cự long\\n\\n&gt; 6000 đến 8999 trượng - cổ long\\n\\n&gt;= 9000 trượng - thánh long\\n\\nLong Hoàng - danh hiệu dành cho con rồng mạnh nhất trong long tộc</th>\n",
       "      <td>0</td>\n",
       "    </tr>\n",
       "    <tr>\n",
       "      <th>LinĶ HAI BÉ 2K9 LÀM xXx LÀM CỘNG ĐỒNG FB XÔN XAO\\n\\nLinĶ : https://sum.vn/W9TGG\\n\\nVÌ SHARE LINĶ NÀY LÀM CHO BAO NHIÊU ANH EM MẤT FACEBOOK\\n\\nĐỪNG SHARE LINK NÀY LÊN FB NHA MẤT ĐẤY XEM Ở TRÊN WEB THÔI..'.;',;',;;'</th>\n",
       "      <td>1</td>\n",
       "    </tr>\n",
       "    <tr>\n",
       "      <th>LinĶ HAI BÉ 2K9 LÀM xXx LÀM CỘNG ĐỒNG FB XÔN XAO\\n\\nLinĶ : https://sum.vn/W9TGG\\n\\nVÌ SHARE LINĶ NÀY LÀM CHO BAO NHIÊU ANH EM MẤT FACEBOOK\\n\\nĐỪNG SHARE LINK NÀY LÊN FB NHA MẤT ĐẤY XEM Ở TRÊN WEB THÔI..',;';';'.;'....</th>\n",
       "      <td>1</td>\n",
       "    </tr>\n",
       "    <tr>\n",
       "      <th>Góp dc 500 chap chưa đọc haha giờ xoã thôi 🥰🥰🥰</th>\n",
       "      <td>0</td>\n",
       "    </tr>\n",
       "    <tr>\n",
       "      <th>Mệt vãi</th>\n",
       "      <td>0</td>\n",
       "    </tr>\n",
       "    <tr>\n",
       "      <th>==&gt;==&gt; yout*ube.com/watch?v=-LqSH5vRSEU\\nMusic này cứ phải gọi là đẳng cấp :) cứ phải ối dồi ôi luôn nhá :D Tôi thử rồi UwU phiêu phết á :&gt; và đọc truyện cx hợp nx nè :3</th>\n",
       "      <td>1</td>\n",
       "    </tr>\n",
       "    <tr>\n",
       "      <th>==&gt;==&gt; yout*ube.com/watch?v=-LqSH5vRSEU\\nMusic này cứ phải gọi là đẳng cấp :) cứ phải ối dồi ôi luôn nhá :D Tôi thử rồi UwU phiêu phết á :&gt; và đọc truyện cx hợp nx nè :3</th>\n",
       "      <td>1</td>\n",
       "    </tr>\n",
       "    <tr>\n",
       "      <th>e cho hỏi dương khai nó nhiu tuổi r...</th>\n",
       "      <td>0</td>\n",
       "    </tr>\n",
       "    <tr>\n",
       "      <th>69 tuổi nha thằng lồn</th>\n",
       "      <td>1</td>\n",
       "    </tr>\n",
       "    <tr>\n",
       "      <th>Tầm 50</th>\n",
       "      <td>0</td>\n",
       "    </tr>\n",
       "    <tr>\n",
       "      <th>30 mấy gần 40 rồi bạn</th>\n",
       "      <td>0</td>\n",
       "    </tr>\n",
       "    <tr>\n",
       "      <th>Chắc cũng  20 đến 30 mấy thoi ( tui nghĩ vậy )</th>\n",
       "      <td>0</td>\n",
       "    </tr>\n",
       "    <tr>\n",
       "      <th>20 tuổi ở Trung Đô, hơn 10 năm ở Thông Huyền Đại Lục, hơn 10 năm ở trong tinh vực, hơn 10 năm ở U Ám Tinh. Ít nhất phải hơn 50 tuổi</th>\n",
       "      <td>0</td>\n",
       "    </tr>\n",
       "    <tr>\n",
       "      <th>Ảnh taihen cổ trang update liên tục ae nào thích thì zo coi nha\\nhttps://lin$k1s.com/8VIqKflo (bỏ $) nhé</th>\n",
       "      <td>1</td>\n",
       "    </tr>\n",
       "    <tr>\n",
       "      <th>http://ola*link.io/ielttests( bỏ * nha)\\nXIN LỖI MỌI NGƯỜI TRƯỚC NHA\\nBạn nào muốn test ielts free có thể vô link nha xác nhận 5s là được nha\\n( không lừa đảo đâu)</th>\n",
       "      <td>1</td>\n",
       "    </tr>\n",
       "  </tbody>\n",
       "</table>\n",
       "</div>"
      ],
      "text/plain": [
       "                                                    is_spam\n",
       "comment                                                    \n",
       "Tu Vi:\\n\\nTrong càn khôn:\\n\\nTôi Thể Cảnh\\n\\nKh...        0\n",
       "Ảnh taihen cổ trang update liên tục ae nào thíc...        1\n",
       "Chỉ có gánh team thôi không có gánh nặng nhé              0\n",
       "Hư vương cảnh rồi đến cảnh giới gì vậy                    0\n",
       "Đến hoa lan cẩm sục cảnh nhá :v                           0\n",
       "Tu Vi:\\n\\nTrong càn khôn:\\n\\nTôi Thể Cảnh\\n\\nKh...        0\n",
       "LinĶ HAI BÉ 2K9 LÀM xXx LÀM CỘNG ĐỒNG FB XÔN XA...        1\n",
       "LinĶ HAI BÉ 2K9 LÀM xXx LÀM CỘNG ĐỒNG FB XÔN XA...        1\n",
       "Góp dc 500 chap chưa đọc haha giờ xoã thôi 🥰🥰🥰            0\n",
       "Mệt vãi                                                   0\n",
       " ==>==> yout*ube.com/watch?v=-LqSH5vRSEU\\nMusic...        1\n",
       "  ==>==> yout*ube.com/watch?v=-LqSH5vRSEU\\nMusi...        1\n",
       "e cho hỏi dương khai nó nhiu tuổi r...                    0\n",
       "69 tuổi nha thằng lồn                                     1\n",
       "Tầm 50                                                    0\n",
       "30 mấy gần 40 rồi bạn                                 0\n",
       "Chắc cũng  20 đến 30 mấy thoi ( tui nghĩ vậy )            0\n",
       "20 tuổi ở Trung Đô, hơn 10 năm ở Thông Huyền Đạ...        0\n",
       "Ảnh taihen cổ trang update liên tục ae nào thíc...        1\n",
       "http://ola*link.io/ielttests( bỏ * nha)\\nXIN LỖ...        1"
      ]
     },
     "metadata": {},
     "execution_count": 13
    }
   ],
   "metadata": {}
  },
  {
   "cell_type": "markdown",
   "source": [
    "## Chia tập train và tập test"
   ],
   "metadata": {}
  },
  {
   "cell_type": "code",
   "execution_count": null,
   "source": [
    "X_train, X_test, y_train, y_test = train_test_split(data.is_spam, data.comment, test_size=0.3,random_state=109)"
   ],
   "outputs": [],
   "metadata": {}
  },
  {
   "cell_type": "markdown",
   "source": [
    "# TF-IDF"
   ],
   "metadata": {}
  },
  {
   "cell_type": "markdown",
   "source": [
    " ### TF là tần xuất xuất hiện của từ:\r\n",
    "(**\r\n",
    " $$ \\mathrm{tf}(t,d) = \\frac{\\mathrm{f}(t,d)}{\\max{(\\mathrm{f}(w,d):w \\space \\in \\space d)}} $$\r\n",
    "\r\n",
    "Trong đó:\r\n",
    "+ $\\mathrm{tf}(\\mathrm{t,d})$ tần suất xuất hiện của từ t trong văn bản d.\r\n",
    "+ $\\mathrm{f}(\\mathrm{t,d})$ số lần xuất hiện của từ t trong văn bản d\r\n",
    "+ $\\max{(\\mathrm{f}(\\mathrm{w,d}):w \\space \\in \\space \\mathrm{d} )}$  số lần xuất hiện của từ có số lần xuất hiện nhiều nhất trong văn bản d\r\n",
    "\r\n",
    "**)\r\n"
   ],
   "metadata": {}
  },
  {
   "cell_type": "markdown",
   "source": [
    "### IDF là nghịch đảo tần xuất từ, đánh giá tầm quan trọng của từ:\r\n",
    "(**\r\n",
    "$$ \\mathrm{idf}(t,D) = \\log{\\frac{\\rvert D \\lvert}{d \\in D : w \\in d}}$$\r\n",
    "Trong đó:\r\n",
    "+  $\\mathrm{idf}(\\mathrm{t,D})$  giá trị idf của từ t trong tập văn bản\r\n",
    "+ $\\rvert D \\lvert$ tổng số văn bản trong tập D\r\n",
    "+ $d \\in D : w \\in d$ thể hiện số văn bản trong tập D có chứa từ t.\r\n",
    "\r\n",
    "**)"
   ],
   "metadata": {}
  },
  {
   "cell_type": "markdown",
   "source": [
    "### TF-IDF được tính như sau:\r\n",
    "$$\\mathrm{tfidf}(t, d, D) = \\mathrm{tf}(t, d) \\times \\mathrm{idf}(t, D)$$\r\n",
    "+ Khi đó những từ có TF-IDF cao là nhưng từ đặc trưng của mỗi văn bản. Nghĩa là xuất hiện nhiều trong văn bản này và xuất hiện ít trong văn bản khác. Giúp lọc ra những từ phổ biến và giữ lại những từ có giá trị cao( khoá của văn bản)."
   ],
   "metadata": {}
  },
  {
   "cell_type": "markdown",
   "source": [
    "## Tính TF-IDF bằng thư viện sckilearn"
   ],
   "metadata": {}
  },
  {
   "cell_type": "markdown",
   "source": [
    "Sử dụng hàm TfidfVectorized của thư viện sklearn để tính."
   ],
   "metadata": {}
  },
  {
   "cell_type": "code",
   "execution_count": null,
   "source": [
    "cv = TfidfVectorizer()\r\n",
    "tfidf_train = cv.fit_transform(x_train)\r\n",
    "tfidf_test = cv.transform(x_test)"
   ],
   "outputs": [],
   "metadata": {}
  },
  {
   "cell_type": "code",
   "execution_count": null,
   "source": [
    "y_train = y_train.astype('int')"
   ],
   "outputs": [],
   "metadata": {}
  },
  {
   "cell_type": "code",
   "execution_count": null,
   "source": [
    "y_true = y_test.astype('int')"
   ],
   "outputs": [],
   "metadata": {}
  },
  {
   "cell_type": "markdown",
   "source": [
    "# Sử dụng mô hình phân loại SVM"
   ],
   "metadata": {}
  },
  {
   "cell_type": "code",
   "execution_count": null,
   "source": [
    "#Create a svm Classifier\r\n",
    "clf = svm.SVC(kernel='linear') # Linear Kernel\r\n",
    "\r\n",
    "#Train the model using the training sets\r\n",
    "clf.fit(X_train, y_train)\r\n",
    "\r\n",
    "#Predict the response for test dataset\r\n",
    "y_pred = clf.predict(X_test)"
   ],
   "outputs": [],
   "metadata": {}
  },
  {
   "cell_type": "markdown",
   "source": [
    "## Đáng giá sơ bộ"
   ],
   "metadata": {}
  },
  {
   "cell_type": "code",
   "execution_count": null,
   "source": [
    "# Model Accuracy\r\n",
    "print(\"Accuracy of model: %.2f %%\" %(100*accuracy_score(y_test, pred)))"
   ],
   "outputs": [],
   "metadata": {}
  },
  {
   "cell_type": "code",
   "execution_count": null,
   "source": [
    "# Model Precision\r\n",
    "print(\"Precision:\",metrics.precision_score(y_test, y_pred))\r\n",
    "\r\n",
    "# Model Recall\r\n",
    "print(\"Recall:\",metrics.recall_score(y_test, y_pred))"
   ],
   "outputs": [],
   "metadata": {}
  },
  {
   "cell_type": "markdown",
   "source": [
    "# Sử dụng mô hình phân loại Navie Bayes"
   ],
   "metadata": {}
  },
  {
   "cell_type": "code",
   "execution_count": null,
   "source": [
    "mnb =MultinomialNB()\r\n",
    "mnb.fit(tfidf_train,y_train)\r\n",
    "pred = mnb.predict(tfidf_test)"
   ],
   "outputs": [],
   "metadata": {}
  },
  {
   "cell_type": "markdown",
   "source": [
    "## Đáng giá sơ bộ"
   ],
   "metadata": {}
  },
  {
   "cell_type": "code",
   "execution_count": null,
   "source": [
    "print(\"Accuracy of model: %.2f %%\" %(100*accuracy_score(y_test, pred)))"
   ],
   "outputs": [],
   "metadata": {}
  },
  {
   "cell_type": "code",
   "execution_count": null,
   "source": [
    "# Model Precision\r\n",
    "print(\"Precision:\",metrics.precision_score(y_test, y_pred))\r\n",
    "\r\n",
    "# Model Recall\r\n",
    "print(\"Recall:\",metrics.recall_score(y_test, y_pred))"
   ],
   "outputs": [],
   "metadata": {}
  },
  {
   "cell_type": "markdown",
   "source": [
    "# Nhận xét"
   ],
   "metadata": {}
  },
  {
   "cell_type": "markdown",
   "source": [
    "## Về dữ liệu"
   ],
   "metadata": {}
  },
  {
   "cell_type": "code",
   "execution_count": null,
   "source": [
    "print(train_data[\"is_sarcastic\"].value_counts())"
   ],
   "outputs": [],
   "metadata": {}
  },
  {
   "cell_type": "markdown",
   "source": [
    "## Về mô hình"
   ],
   "metadata": {}
  },
  {
   "cell_type": "code",
   "execution_count": null,
   "source": [
    "y_pred = pd.DataFrame(pred)\r\n",
    "print('y_true\\n',y_true.value_counts())\r\n",
    "print('y_pred\\n',y_pred.value_counts())"
   ],
   "outputs": [],
   "metadata": {}
  }
 ],
 "metadata": {
  "orig_nbformat": 4,
  "language_info": {
   "name": "python",
   "version": "3.8.10",
   "mimetype": "text/x-python",
   "codemirror_mode": {
    "name": "ipython",
    "version": 3
   },
   "pygments_lexer": "ipython3",
   "nbconvert_exporter": "python",
   "file_extension": ".py"
  },
  "kernelspec": {
   "name": "python3",
   "display_name": "Python 3.8.10 64-bit"
  },
  "interpreter": {
   "hash": "1baa965d5efe3ac65b79dfc60c0d706280b1da80fedb7760faf2759126c4f253"
  }
 },
 "nbformat": 4,
 "nbformat_minor": 2
}