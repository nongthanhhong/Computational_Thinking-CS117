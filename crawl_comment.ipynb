{
 "cells": [
  {
   "cell_type": "code",
   "execution_count": 1,
   "source": [
    "from selenium import webdriver\r\n",
    "from bs4 import BeautifulSoup\r\n",
    "import time\r\n",
    "import pandas as pd"
   ],
   "outputs": [],
   "metadata": {}
  },
  {
   "cell_type": "code",
   "execution_count": null,
   "source": [
    "data_set = []"
   ],
   "outputs": [],
   "metadata": {}
  },
  {
   "cell_type": "code",
   "execution_count": null,
   "source": [
    "driver = webdriver.Chrome()\r\n",
    "url=\"http://www.nettruyenvip.com/truyen-tranh/vo-luyen-dinh-phong-17696\"\r\n",
    "driver.get(url)"
   ],
   "outputs": [],
   "metadata": {}
  },
  {
   "cell_type": "markdown",
   "source": [
    "* [scraping-through-multiple-pages-when-url-doesnt-change](https://stackoverflow.com/questions/62542663/scraping-through-multiple-pages-when-url-doesnt-change)\r\n",
    "\r\n",
    "* [python-selenium-clicking-next-button-until-the-end](https://stackoverflow.com/questions/36244877/python-selenium-clicking-next-button-until-the-end)\r\n",
    "\r\n",
    "* [Selenium with Python](https://selenium-python.readthedocs.io/)"
   ],
   "metadata": {}
  },
  {
   "cell_type": "code",
   "execution_count": null,
   "source": [
    "while True:\r\n",
    "    comment = driver.find_elements_by_class_name('summary')\r\n",
    "    for cm in comment:\r\n",
    "        result = {\r\n",
    "            'is_spam' : 0,\r\n",
    "            'comment' : cm.text,\r\n",
    "        }\r\n",
    "        data_set.append(result)\r\n",
    "    \r\n",
    "    if len(driver.find_elements_by_link_text('›')) == 0:\r\n",
    "        break\r\n",
    "    click_next = driver.find_element_by_link_text('›')\r\n",
    "    click_next.click()\r\n",
    "    time.sleep(1)"
   ],
   "outputs": [],
   "metadata": {}
  },
  {
   "cell_type": "code",
   "execution_count": null,
   "source": [
    "print(data_set)"
   ],
   "outputs": [],
   "metadata": {}
  },
  {
   "cell_type": "code",
   "execution_count": null,
   "source": [
    "driver.quit()"
   ],
   "outputs": [],
   "metadata": {}
  },
  {
   "cell_type": "code",
   "execution_count": null,
   "source": [
    "df = pd.DataFrame(data_set)\r\n",
    "df.head(20)"
   ],
   "outputs": [],
   "metadata": {}
  },
  {
   "cell_type": "markdown",
   "source": [
    "Gôp với data_set cũ"
   ],
   "metadata": {}
  },
  {
   "cell_type": "code",
   "execution_count": null,
   "source": [
    "df_0 = pd.read_csv('./data_set.csv')\r\n",
    "df_0.head()\r\n",
    "df = df_0.append(df, sort=True)"
   ],
   "outputs": [],
   "metadata": {}
  },
  {
   "cell_type": "markdown",
   "source": [
    "Lưu vào bộ nhớ"
   ],
   "metadata": {}
  },
  {
   "cell_type": "code",
   "execution_count": null,
   "source": [
    "df.to_csv(r\"./data_set.csv\",index=False, encoding='utf8')"
   ],
   "outputs": [],
   "metadata": {}
  },
  {
   "cell_type": "code",
   "execution_count": 4,
   "source": [
    "df_0 = pd.read_csv('F:\\HK2-năm 2\\Tư duy tính toán\\data set\\original_data_set.csv')\r\n",
    "df_1= df_0.head(5055)\r\n",
    "df_1.to_csv(r\"./data_set.csv\",index=False)"
   ],
   "outputs": [],
   "metadata": {}
  }
 ],
 "metadata": {
  "orig_nbformat": 4,
  "language_info": {
   "name": "python",
   "version": "3.8.10",
   "mimetype": "text/x-python",
   "codemirror_mode": {
    "name": "ipython",
    "version": 3
   },
   "pygments_lexer": "ipython3",
   "nbconvert_exporter": "python",
   "file_extension": ".py"
  },
  "kernelspec": {
   "name": "python3",
   "display_name": "Python 3.8.10 64-bit"
  },
  "interpreter": {
   "hash": "1baa965d5efe3ac65b79dfc60c0d706280b1da80fedb7760faf2759126c4f253"
  }
 },
 "nbformat": 4,
 "nbformat_minor": 2
}